{
 "cells": [
  {
   "cell_type": "markdown",
   "metadata": {},
   "source": [
    "# 朴素贝叶斯法"
   ]
  },
  {
   "cell_type": "code",
   "execution_count": 69,
   "metadata": {},
   "outputs": [],
   "source": [
    "import pandas as pd\n",
    "import numpy as np \n",
    "import matplotlib.pyplot as plt\n",
    "%matplotlib inline\n",
    "\n",
    "from sklearn.datasets import load_iris\n",
    "from sklearn.model_selection import train_test_split\n",
    "\n",
    "from collections import Counter\n",
    "import math"
   ]
  },
  {
   "cell_type": "markdown",
   "metadata": {},
   "source": [
    "## Load Data"
   ]
  },
  {
   "cell_type": "code",
   "execution_count": 70,
   "metadata": {},
   "outputs": [],
   "source": [
    "iris = load_iris()\n",
    "df = pd.DataFrame(iris.data, columns=iris.feature_names)\n",
    "df['label'] = iris.target\n",
    "df.columns = ['sepal length', 'sepal width', 'petal length', 'petal width', 'label']\n",
    "data = np.array(df.iloc[:100, :])\n",
    "X, y = data[:, :4], data[:, -1]\n",
    "X_train, X_test, y_train, y_test = train_test_split(X, y, test_size=0.2)"
   ]
  },
  {
   "cell_type": "markdown",
   "metadata": {},
   "source": [
    "## Gaussian Naive Bayes\n",
    "\n",
    "特征的可能性被假设为高斯\n",
    "\n",
    "概率密度函数：\n",
    "$$P(x_i | y_k)=\\frac{1}{\\sqrt{2\\pi\\sigma^2_{yk}}}exp(-\\frac{(x_i-\\mu_{yk})^2}{2\\sigma^2_{yk}})$$\n",
    "\n",
    "数学期望(mean)：$\\mu$\n",
    "\n",
    "方差：$\\sigma^2=\\frac{\\sum(X-\\mu)^2}{N}$"
   ]
  },
  {
   "cell_type": "code",
   "execution_count": 71,
   "metadata": {},
   "outputs": [],
   "source": [
    "class NaiveBayes:\n",
    "    def __init__(self):\n",
    "        self.model = None\n",
    "        \n",
    "    def gaussian_probability(self, x, mean, std):\n",
    "        part_1 = 1 / np.sqrt(2 * math.pi * (std ** 2))\n",
    "        part_2 = np.exp((-(x - mean) ** 2) / (2 * (std ** 2)))\n",
    "        return part_1 * part_2\n",
    "    \n",
    "    def data_probability(self, train_data):\n",
    "        summary = [(np.mean(i), np.std(i)) for i in zip(*train_data)]\n",
    "        return summary\n",
    "    \n",
    "    def train(self, X_train, y_train):\n",
    "        label = list(set(y_train))\n",
    "        data = {i: [] for i in label}\n",
    "        for x, label in zip(X_train, y_train):\n",
    "            data[label].append(x)\n",
    "        self.model = {\n",
    "            label: [self.data_probability(label_data), len(label_data) / len(X_train)] for label, label_data in data.items()\n",
    "        }\n",
    "        return print('Naive Bays: Train Completed!')\n",
    "    \n",
    "    def predict(self, x):\n",
    "        probability = {}\n",
    "        for label, value in self.model.items():\n",
    "            probability[label] = value[1]\n",
    "            for i in range(len(value[0])):\n",
    "                probability[label] *= self.gaussian_probability(x[i], value[0][i][0], value[0][i][1])\n",
    "                \n",
    "        label = sorted(probability.items(), key=(lambda x: x[1]))[-1][0]\n",
    "        return label\n",
    "    \n",
    "    def score(self, X_test, y_test):\n",
    "        accurate_count = 0\n",
    "        for i in range(len(X_test)):\n",
    "            if y_test[i] == self.predict(X_test[i]):\n",
    "                accurate_count += 1\n",
    "        return accurate_count / len(y_test)"
   ]
  },
  {
   "cell_type": "code",
   "execution_count": 72,
   "metadata": {},
   "outputs": [
    {
     "name": "stdout",
     "output_type": "stream",
     "text": [
      "Naive Bays: Train Completed!\n"
     ]
    },
    {
     "data": {
      "text/plain": [
       "1.0"
      ]
     },
     "execution_count": 72,
     "metadata": {},
     "output_type": "execute_result"
    }
   ],
   "source": [
    "model = NaiveBayes()\n",
    "model.train(X_train, y_train)\n",
    "model.score(X_test, y_test)"
   ]
  },
  {
   "cell_type": "markdown",
   "metadata": {},
   "source": [
    "## sklearn"
   ]
  },
  {
   "cell_type": "code",
   "execution_count": 73,
   "metadata": {},
   "outputs": [
    {
     "data": {
      "text/plain": [
       "1.0"
      ]
     },
     "execution_count": 73,
     "metadata": {},
     "output_type": "execute_result"
    }
   ],
   "source": [
    "from sklearn.naive_bayes import GaussianNB\n",
    "clf = GaussianNB()\n",
    "clf.fit(X_train, y_train)\n",
    "clf.score(X_test, y_test)"
   ]
  },
  {
   "cell_type": "code",
   "execution_count": 74,
   "metadata": {},
   "outputs": [],
   "source": [
    "from sklearn.naive_bayes import BernoulliNB, MultinomialNB # 伯努利模型和多项式模型"
   ]
  },
  {
   "cell_type": "markdown",
   "metadata": {},
   "source": [
    "参考代码: https://github.com/fengdu78/lihang-code\n",
    "\n",
    "python: 3.7.6"
   ]
  }
 ],
 "metadata": {
  "kernelspec": {
   "display_name": "Python 3",
   "language": "python",
   "name": "python3"
  },
  "language_info": {
   "codemirror_mode": {
    "name": "ipython",
    "version": 3
   },
   "file_extension": ".py",
   "mimetype": "text/x-python",
   "name": "python",
   "nbconvert_exporter": "python",
   "pygments_lexer": "ipython3",
   "version": "3.7.6"
  }
 },
 "nbformat": 4,
 "nbformat_minor": 4
}
